{
 "cells": [
  {
   "cell_type": "code",
   "execution_count": 1,
   "metadata": {},
   "outputs": [],
   "source": [
    "import mdtraj as md\n",
    "import matplotlib.pyplot as plt\n",
    "import numpy as np\n",
    "import conda\n",
    "from scipy.spatial import distance\n",
    "import matplotlib.pyplot as plt\n",
    "from __future__ import print_function\n",
    "%matplotlib inline\n",
    "import pandas as pd\n"
   ]
  },
  {
   "cell_type": "code",
   "execution_count": 4,
   "metadata": {},
   "outputs": [],
   "source": [
    "traj1 = md.load('CHR2-ep.5sig.1-5000.pdb')\n",
    "traj2 = md.load('CHR2-ep1sig.1-5000.pdb')\n",
    "traj3 = md.load('CHR2-ep2sig.1-5000.pdb')\n",
    "traj4 = md.load('CHR2-ep5sig.1-5000.pdb')\n",
    "#load trajectories of epsilon from .5,1,2,and 5 all on sigma.1 \n",
    "\n",
    "traj5 = md.load('CHR2-ep.5sig.5.pdb')\n",
    "traj6 = md.load('CHR2-ep1sig.5.pdb')\n",
    "traj7 = md.load('CHR2-ep2sig.5-5000.pdb')\n",
    "traj8 = md.load('CHR2-ep5sig.5-5000.pdb')\n",
    "#load trajectories of epsilon from .5,1,2,and 5 all on sigma.5\n",
    "\n",
    "traj9 = md.load('CHR2-ep.5sig1-5000.pdb')\n",
    "traj10 = md.load('CHR2-ep1sig1-2500.pdb')\n",
    "traj11 = md.load('CHR2-ep2sig1-2500.pdb')\n",
    "traj12 = md.load('CHR2-ep5sig1-2500.pdb')\n",
    "#load trajectories of epsilon from .5,1,2,and 5 all on sigma 1\n",
    "\n",
    "traj13 = md.load('CHR2-ep.5sig2-5000.pdb')\n",
    "traj14 = md.load('CHR2-ep1sig2-5000.pdb')\n",
    "traj15 = md.load('CHR2-ep2sig2-5000.pdb')\n",
    "traj16 = md.load('CHR2-ep5sig2-5000.pdb')\n",
    "#load trajectories of epsilon from .5,1,2,and 5 all on sigma 2"
   ]
  },
  {
   "cell_type": "code",
   "execution_count": 11,
   "metadata": {},
   "outputs": [],
   "source": [
    "sphere1 = md.asphericity(traj1)\n",
    "sphere2 = md.asphericity(traj2)\n",
    "sphere3 = md.asphericity(traj3)\n",
    "sphere4 = md.asphericity(traj4)\n",
    "sphere5 = md.asphericity(traj5)\n",
    "sphere6 = md.asphericity(traj6)\n",
    "sphere7 = md.asphericity(traj7)\n",
    "sphere8 = md.asphericity(traj8)\n",
    "sphere9 = md.asphericity(traj9)\n",
    "sphere10 = md.asphericity(traj10)\n",
    "sphere11 = md.asphericity(traj11)\n",
    "sphere12 = md.asphericity(traj12)\n",
    "sphere13 = md.asphericity(traj13)\n",
    "sphere14 = md.asphericity(traj14)\n",
    "sphere15 = md.asphericity(traj15)\n",
    "sphere16 = md.asphericity(traj16)"
   ]
  },
  {
   "cell_type": "code",
   "execution_count": 16,
   "metadata": {},
   "outputs": [
    {
     "name": "stdout",
     "output_type": "stream",
     "text": [
      "[[[0.4129791 ]\n",
      "  [0.42591747]\n",
      "  [0.42685979]\n",
      "  [0.43295455]]\n",
      "\n",
      " [[0.39984003]\n",
      "  [0.41889065]\n",
      "  [0.42466352]\n",
      "  [0.41347218]]\n",
      "\n",
      " [[0.32852393]\n",
      "  [0.37841394]\n",
      "  [0.39597621]\n",
      "  [0.39692435]]\n",
      "\n",
      " [[0.30789806]\n",
      "  [0.32027133]\n",
      "  [0.37660335]\n",
      "  [0.35963804]]]\n"
     ]
    }
   ],
   "source": [
    "\n",
    "matrix = np.array([\n",
    "    [sphere1, sphere2, sphere3, sphere4],\n",
    "    [sphere5, sphere6, sphere7, sphere8],\n",
    "    [sphere9, sphere10, sphere11, sphere12],\n",
    "    [sphere13, sphere14, sphere15, sphere16]\n",
    "])\n",
    "\n",
    "\n",
    "# Print the matrix\n",
    "print(matrix)\n",
    "\n",
    "\n",
    "  "
   ]
  },
  {
   "cell_type": "code",
   "execution_count": 17,
   "metadata": {},
   "outputs": [
    {
     "data": {
      "image/png": "[encoded data removed]",
      "text/plain": [
       "<Figure size 480x480 with 2 Axes>"
      ]
     },
     "metadata": {},
     "output_type": "display_data"
    }
   ],
   "source": [
    "plt.matshow(matrix, cmap='coolwarm')  # load matrix, color map to be used \n",
    "plt.colorbar(label='Sphericity')  \n",
    "plt.xlabel('Epsilon')\n",
    "plt.ylabel('Sigma')\n",
    "plt.title('Sphericity Matrix')\n",
    "\n",
    "plt.show()"
   ]
  }
 ],
 "metadata": {
  "kernelspec": {
   "display_name": "base",
   "language": "python",
   "name": "python3"
  },
  "language_info": {
   "codemirror_mode": {
    "name": "ipython",
    "version": 3
   },
   "file_extension": ".py",
   "mimetype": "text/x-python",
   "name": "python",
   "nbconvert_exporter": "python",
   "pygments_lexer": "ipython3",
   "version": "3.10.9"
  },
  "orig_nbformat": 4
 },
 "nbformat": 4,
 "nbformat_minor": 2
}
